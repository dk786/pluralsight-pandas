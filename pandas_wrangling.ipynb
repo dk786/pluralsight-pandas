{
 "metadata": {
  "language_info": {
   "codemirror_mode": {
    "name": "ipython",
    "version": 3
   },
   "file_extension": ".py",
   "mimetype": "text/x-python",
   "name": "python",
   "nbconvert_exporter": "python",
   "pygments_lexer": "ipython3",
   "version": "3.7.6-final"
  },
  "orig_nbformat": 2,
  "kernelspec": {
   "name": "python3",
   "display_name": "Python 3"
  }
 },
 "nbformat": 4,
 "nbformat_minor": 2,
 "cells": [
  {
   "cell_type": "code",
   "execution_count": 2,
   "metadata": {},
   "outputs": [],
   "source": [
    "import pandas as pd \n",
    "import numpy as np \n",
    "%matplotlib inline"
   ]
  },
  {
   "cell_type": "code",
   "execution_count": 4,
   "metadata": {},
   "outputs": [],
   "source": [
    "df = pd.read_csv('weather.csv')"
   ]
  },
  {
   "cell_type": "code",
   "execution_count": 5,
   "metadata": {},
   "outputs": [
    {
     "output_type": "stream",
     "name": "stdout",
     "text": [
      "<class 'pandas.core.frame.DataFrame'>\nRangeIndex: 8784 entries, 0 to 8783\nData columns (total 5 columns):\n #   Column    Non-Null Count  Dtype  \n---  ------    --------------  -----  \n 0   MONTH     8784 non-null   int64  \n 1   DAY       8784 non-null   int64  \n 2   TIME      8784 non-null   int64  \n 3   TEMP      8784 non-null   float64\n 4   PRESSURE  8784 non-null   int64  \ndtypes: float64(1), int64(4)\nmemory usage: 343.2 KB\n"
     ]
    }
   ],
   "source": [
    "df.info()"
   ]
  },
  {
   "cell_type": "code",
   "execution_count": 6,
   "metadata": {},
   "outputs": [
    {
     "output_type": "execute_result",
     "data": {
      "text/plain": [
       "             MONTH          DAY         TIME         TEMP      PRESSURE\n",
       "count  8784.000000  8784.000000  8784.000000  8784.000000   8784.000000\n",
       "mean      6.513661   183.500000    12.500000    10.768613  10159.254781\n",
       "std       3.451430   105.660719     6.922581     6.420003    102.895130\n",
       "min       1.000000     1.000000     1.000000    -6.500000   9812.000000\n",
       "25%       4.000000    92.000000     6.750000     6.100000  10102.000000\n",
       "50%       7.000000   183.500000    12.500000    10.200000  10169.000000\n",
       "75%      10.000000   275.000000    18.250000    15.900000  10227.000000\n",
       "max      12.000000   366.000000    24.000000    31.700000  10453.000000"
      ],
      "text/html": "<div>\n<style scoped>\n    .dataframe tbody tr th:only-of-type {\n        vertical-align: middle;\n    }\n\n    .dataframe tbody tr th {\n        vertical-align: top;\n    }\n\n    .dataframe thead th {\n        text-align: right;\n    }\n</style>\n<table border=\"1\" class=\"dataframe\">\n  <thead>\n    <tr style=\"text-align: right;\">\n      <th></th>\n      <th>MONTH</th>\n      <th>DAY</th>\n      <th>TIME</th>\n      <th>TEMP</th>\n      <th>PRESSURE</th>\n    </tr>\n  </thead>\n  <tbody>\n    <tr>\n      <th>count</th>\n      <td>8784.000000</td>\n      <td>8784.000000</td>\n      <td>8784.000000</td>\n      <td>8784.000000</td>\n      <td>8784.000000</td>\n    </tr>\n    <tr>\n      <th>mean</th>\n      <td>6.513661</td>\n      <td>183.500000</td>\n      <td>12.500000</td>\n      <td>10.768613</td>\n      <td>10159.254781</td>\n    </tr>\n    <tr>\n      <th>std</th>\n      <td>3.451430</td>\n      <td>105.660719</td>\n      <td>6.922581</td>\n      <td>6.420003</td>\n      <td>102.895130</td>\n    </tr>\n    <tr>\n      <th>min</th>\n      <td>1.000000</td>\n      <td>1.000000</td>\n      <td>1.000000</td>\n      <td>-6.500000</td>\n      <td>9812.000000</td>\n    </tr>\n    <tr>\n      <th>25%</th>\n      <td>4.000000</td>\n      <td>92.000000</td>\n      <td>6.750000</td>\n      <td>6.100000</td>\n      <td>10102.000000</td>\n    </tr>\n    <tr>\n      <th>50%</th>\n      <td>7.000000</td>\n      <td>183.500000</td>\n      <td>12.500000</td>\n      <td>10.200000</td>\n      <td>10169.000000</td>\n    </tr>\n    <tr>\n      <th>75%</th>\n      <td>10.000000</td>\n      <td>275.000000</td>\n      <td>18.250000</td>\n      <td>15.900000</td>\n      <td>10227.000000</td>\n    </tr>\n    <tr>\n      <th>max</th>\n      <td>12.000000</td>\n      <td>366.000000</td>\n      <td>24.000000</td>\n      <td>31.700000</td>\n      <td>10453.000000</td>\n    </tr>\n  </tbody>\n</table>\n</div>"
     },
     "metadata": {},
     "execution_count": 6
    }
   ],
   "source": [
    "df.describe()"
   ]
  },
  {
   "cell_type": "code",
   "execution_count": 8,
   "metadata": {},
   "outputs": [
    {
     "output_type": "execute_result",
     "data": {
      "text/plain": [
       "0       6.8\n",
       "1       5.8\n",
       "2       5.7\n",
       "3       6.0\n",
       "4       4.5\n",
       "       ... \n",
       "8779    3.5\n",
       "8780    3.4\n",
       "8781    3.0\n",
       "8782    2.8\n",
       "8783    2.8\n",
       "Name: TEMP, Length: 8784, dtype: float64"
      ]
     },
     "metadata": {},
     "execution_count": 8
    }
   ],
   "source": [
    "df['TEMP']"
   ]
  },
  {
   "cell_type": "code",
   "execution_count": 9,
   "metadata": {},
   "outputs": [
    {
     "output_type": "execute_result",
     "data": {
      "text/plain": [
       "5.8"
      ]
     },
     "metadata": {},
     "execution_count": 9
    }
   ],
   "source": [
    "df['TEMP'][1]"
   ]
  },
  {
   "cell_type": "code",
   "execution_count": 10,
   "metadata": {},
   "outputs": [
    {
     "output_type": "execute_result",
     "data": {
      "text/plain": [
       "0       6.8\n",
       "1       5.8\n",
       "2       5.7\n",
       "3       6.0\n",
       "4       4.5\n",
       "       ... \n",
       "8779    3.5\n",
       "8780    3.4\n",
       "8781    3.0\n",
       "8782    2.8\n",
       "8783    2.8\n",
       "Name: TEMP, Length: 8784, dtype: float64"
      ]
     },
     "metadata": {},
     "execution_count": 10
    }
   ],
   "source": [
    "# don't use this syntex\n",
    "df.TEMP"
   ]
  },
  {
   "cell_type": "code",
   "execution_count": 12,
   "metadata": {},
   "outputs": [
    {
     "output_type": "execute_result",
     "data": {
      "text/plain": [
       "             0        1        2        3        4        5        6     \\\n",
       "MONTH         1.0      1.0      1.0      1.0      1.0      1.0      1.0   \n",
       "DAY           1.0      1.0      1.0      1.0      1.0      1.0      1.0   \n",
       "TIME          1.0      2.0      3.0      4.0      5.0      6.0      7.0   \n",
       "TEMP          6.8      5.8      5.7      6.0      4.5      2.0      1.1   \n",
       "PRESSURE  10207.0  10214.0  10220.0  10225.0  10230.0  10237.0  10242.0   \n",
       "\n",
       "             7        8        9     ...     8774     8775     8776     8777  \\\n",
       "MONTH         1.0      1.0      1.0  ...     12.0     12.0     12.0     12.0   \n",
       "DAY           1.0      1.0      1.0  ...    366.0    366.0    366.0    366.0   \n",
       "TIME          8.0      9.0     10.0  ...     15.0     16.0     17.0     18.0   \n",
       "TEMP          0.7      0.2      2.0  ...      5.1      4.6      4.1      3.7   \n",
       "PRESSURE  10245.0  10248.0  10249.0  ...  10288.0  10286.0  10284.0  10277.0   \n",
       "\n",
       "             8778     8779     8780     8781     8782     8783  \n",
       "MONTH        12.0     12.0     12.0     12.0     12.0     12.0  \n",
       "DAY         366.0    366.0    366.0    366.0    366.0    366.0  \n",
       "TIME         19.0     20.0     21.0     22.0     23.0     24.0  \n",
       "TEMP          3.5      3.5      3.4      3.0      2.8      2.8  \n",
       "PRESSURE  10271.0  10265.0  10258.0  10253.0  10246.0  10239.0  \n",
       "\n",
       "[5 rows x 8784 columns]"
      ],
      "text/html": "<div>\n<style scoped>\n    .dataframe tbody tr th:only-of-type {\n        vertical-align: middle;\n    }\n\n    .dataframe tbody tr th {\n        vertical-align: top;\n    }\n\n    .dataframe thead th {\n        text-align: right;\n    }\n</style>\n<table border=\"1\" class=\"dataframe\">\n  <thead>\n    <tr style=\"text-align: right;\">\n      <th></th>\n      <th>0</th>\n      <th>1</th>\n      <th>2</th>\n      <th>3</th>\n      <th>4</th>\n      <th>5</th>\n      <th>6</th>\n      <th>7</th>\n      <th>8</th>\n      <th>9</th>\n      <th>...</th>\n      <th>8774</th>\n      <th>8775</th>\n      <th>8776</th>\n      <th>8777</th>\n      <th>8778</th>\n      <th>8779</th>\n      <th>8780</th>\n      <th>8781</th>\n      <th>8782</th>\n      <th>8783</th>\n    </tr>\n  </thead>\n  <tbody>\n    <tr>\n      <th>MONTH</th>\n      <td>1.0</td>\n      <td>1.0</td>\n      <td>1.0</td>\n      <td>1.0</td>\n      <td>1.0</td>\n      <td>1.0</td>\n      <td>1.0</td>\n      <td>1.0</td>\n      <td>1.0</td>\n      <td>1.0</td>\n      <td>...</td>\n      <td>12.0</td>\n      <td>12.0</td>\n      <td>12.0</td>\n      <td>12.0</td>\n      <td>12.0</td>\n      <td>12.0</td>\n      <td>12.0</td>\n      <td>12.0</td>\n      <td>12.0</td>\n      <td>12.0</td>\n    </tr>\n    <tr>\n      <th>DAY</th>\n      <td>1.0</td>\n      <td>1.0</td>\n      <td>1.0</td>\n      <td>1.0</td>\n      <td>1.0</td>\n      <td>1.0</td>\n      <td>1.0</td>\n      <td>1.0</td>\n      <td>1.0</td>\n      <td>1.0</td>\n      <td>...</td>\n      <td>366.0</td>\n      <td>366.0</td>\n      <td>366.0</td>\n      <td>366.0</td>\n      <td>366.0</td>\n      <td>366.0</td>\n      <td>366.0</td>\n      <td>366.0</td>\n      <td>366.0</td>\n      <td>366.0</td>\n    </tr>\n    <tr>\n      <th>TIME</th>\n      <td>1.0</td>\n      <td>2.0</td>\n      <td>3.0</td>\n      <td>4.0</td>\n      <td>5.0</td>\n      <td>6.0</td>\n      <td>7.0</td>\n      <td>8.0</td>\n      <td>9.0</td>\n      <td>10.0</td>\n      <td>...</td>\n      <td>15.0</td>\n      <td>16.0</td>\n      <td>17.0</td>\n      <td>18.0</td>\n      <td>19.0</td>\n      <td>20.0</td>\n      <td>21.0</td>\n      <td>22.0</td>\n      <td>23.0</td>\n      <td>24.0</td>\n    </tr>\n    <tr>\n      <th>TEMP</th>\n      <td>6.8</td>\n      <td>5.8</td>\n      <td>5.7</td>\n      <td>6.0</td>\n      <td>4.5</td>\n      <td>2.0</td>\n      <td>1.1</td>\n      <td>0.7</td>\n      <td>0.2</td>\n      <td>2.0</td>\n      <td>...</td>\n      <td>5.1</td>\n      <td>4.6</td>\n      <td>4.1</td>\n      <td>3.7</td>\n      <td>3.5</td>\n      <td>3.5</td>\n      <td>3.4</td>\n      <td>3.0</td>\n      <td>2.8</td>\n      <td>2.8</td>\n    </tr>\n    <tr>\n      <th>PRESSURE</th>\n      <td>10207.0</td>\n      <td>10214.0</td>\n      <td>10220.0</td>\n      <td>10225.0</td>\n      <td>10230.0</td>\n      <td>10237.0</td>\n      <td>10242.0</td>\n      <td>10245.0</td>\n      <td>10248.0</td>\n      <td>10249.0</td>\n      <td>...</td>\n      <td>10288.0</td>\n      <td>10286.0</td>\n      <td>10284.0</td>\n      <td>10277.0</td>\n      <td>10271.0</td>\n      <td>10265.0</td>\n      <td>10258.0</td>\n      <td>10253.0</td>\n      <td>10246.0</td>\n      <td>10239.0</td>\n    </tr>\n  </tbody>\n</table>\n<p>5 rows × 8784 columns</p>\n</div>"
     },
     "metadata": {},
     "execution_count": 12
    }
   ],
   "source": [
    "dft = df.T\n",
    "dft"
   ]
  },
  {
   "cell_type": "code",
   "execution_count": 14,
   "metadata": {},
   "outputs": [
    {
     "output_type": "execute_result",
     "data": {
      "text/plain": [
       "RangeIndex(start=0, stop=8784, step=1)"
      ]
     },
     "metadata": {},
     "execution_count": 14
    }
   ],
   "source": [
    "dft.columns"
   ]
  },
  {
   "cell_type": "code",
   "execution_count": 15,
   "metadata": {},
   "outputs": [
    {
     "output_type": "execute_result",
     "data": {
      "text/plain": [
       "MONTH           1.0\n",
       "DAY             1.0\n",
       "TIME            3.0\n",
       "TEMP            5.7\n",
       "PRESSURE    10220.0\n",
       "Name: 2, dtype: float64"
      ]
     },
     "metadata": {},
     "execution_count": 15
    }
   ],
   "source": [
    "dft[2]"
   ]
  },
  {
   "cell_type": "code",
   "execution_count": 17,
   "metadata": {},
   "outputs": [
    {
     "output_type": "execute_result",
     "data": {
      "text/plain": [
       "6.0"
      ]
     },
     "metadata": {},
     "execution_count": 17
    }
   ],
   "source": [
    "dft[3]['TEMP']"
   ]
  },
  {
   "cell_type": "code",
   "execution_count": 22,
   "metadata": {},
   "outputs": [
    {
     "output_type": "execute_result",
     "data": {
      "text/plain": [
       "6.0"
      ]
     },
     "metadata": {},
     "execution_count": 22
    }
   ],
   "source": [
    "dft[3][3]"
   ]
  },
  {
   "cell_type": "code",
   "execution_count": 23,
   "metadata": {},
   "outputs": [
    {
     "output_type": "execute_result",
     "data": {
      "text/plain": [
       "      MONTH  DAY  TIME  TEMP  PRESSURE\n",
       "0         1    1     1   6.8     10207\n",
       "1         1    1     2   5.8     10214\n",
       "2         1    1     3   5.7     10220\n",
       "3         1    1     4   6.0     10225\n",
       "4         1    1     5   4.5     10230\n",
       "...     ...  ...   ...   ...       ...\n",
       "8779     12  366    20   3.5     10265\n",
       "8780     12  366    21   3.4     10258\n",
       "8781     12  366    22   3.0     10253\n",
       "8782     12  366    23   2.8     10246\n",
       "8783     12  366    24   2.8     10239\n",
       "\n",
       "[8784 rows x 5 columns]"
      ],
      "text/html": "<div>\n<style scoped>\n    .dataframe tbody tr th:only-of-type {\n        vertical-align: middle;\n    }\n\n    .dataframe tbody tr th {\n        vertical-align: top;\n    }\n\n    .dataframe thead th {\n        text-align: right;\n    }\n</style>\n<table border=\"1\" class=\"dataframe\">\n  <thead>\n    <tr style=\"text-align: right;\">\n      <th></th>\n      <th>MONTH</th>\n      <th>DAY</th>\n      <th>TIME</th>\n      <th>TEMP</th>\n      <th>PRESSURE</th>\n    </tr>\n  </thead>\n  <tbody>\n    <tr>\n      <th>0</th>\n      <td>1</td>\n      <td>1</td>\n      <td>1</td>\n      <td>6.8</td>\n      <td>10207</td>\n    </tr>\n    <tr>\n      <th>1</th>\n      <td>1</td>\n      <td>1</td>\n      <td>2</td>\n      <td>5.8</td>\n      <td>10214</td>\n    </tr>\n    <tr>\n      <th>2</th>\n      <td>1</td>\n      <td>1</td>\n      <td>3</td>\n      <td>5.7</td>\n      <td>10220</td>\n    </tr>\n    <tr>\n      <th>3</th>\n      <td>1</td>\n      <td>1</td>\n      <td>4</td>\n      <td>6.0</td>\n      <td>10225</td>\n    </tr>\n    <tr>\n      <th>4</th>\n      <td>1</td>\n      <td>1</td>\n      <td>5</td>\n      <td>4.5</td>\n      <td>10230</td>\n    </tr>\n    <tr>\n      <th>...</th>\n      <td>...</td>\n      <td>...</td>\n      <td>...</td>\n      <td>...</td>\n      <td>...</td>\n    </tr>\n    <tr>\n      <th>8779</th>\n      <td>12</td>\n      <td>366</td>\n      <td>20</td>\n      <td>3.5</td>\n      <td>10265</td>\n    </tr>\n    <tr>\n      <th>8780</th>\n      <td>12</td>\n      <td>366</td>\n      <td>21</td>\n      <td>3.4</td>\n      <td>10258</td>\n    </tr>\n    <tr>\n      <th>8781</th>\n      <td>12</td>\n      <td>366</td>\n      <td>22</td>\n      <td>3.0</td>\n      <td>10253</td>\n    </tr>\n    <tr>\n      <th>8782</th>\n      <td>12</td>\n      <td>366</td>\n      <td>23</td>\n      <td>2.8</td>\n      <td>10246</td>\n    </tr>\n    <tr>\n      <th>8783</th>\n      <td>12</td>\n      <td>366</td>\n      <td>24</td>\n      <td>2.8</td>\n      <td>10239</td>\n    </tr>\n  </tbody>\n</table>\n<p>8784 rows × 5 columns</p>\n</div>"
     },
     "metadata": {},
     "execution_count": 23
    }
   ],
   "source": [
    "df"
   ]
  },
  {
   "cell_type": "code",
   "execution_count": 24,
   "metadata": {},
   "outputs": [
    {
     "output_type": "execute_result",
     "data": {
      "text/plain": [
       "      PRESSURE  TIME  TEMP\n",
       "0        10207     1   6.8\n",
       "1        10214     2   5.8\n",
       "2        10220     3   5.7\n",
       "3        10225     4   6.0\n",
       "4        10230     5   4.5\n",
       "...        ...   ...   ...\n",
       "8779     10265    20   3.5\n",
       "8780     10258    21   3.4\n",
       "8781     10253    22   3.0\n",
       "8782     10246    23   2.8\n",
       "8783     10239    24   2.8\n",
       "\n",
       "[8784 rows x 3 columns]"
      ],
      "text/html": "<div>\n<style scoped>\n    .dataframe tbody tr th:only-of-type {\n        vertical-align: middle;\n    }\n\n    .dataframe tbody tr th {\n        vertical-align: top;\n    }\n\n    .dataframe thead th {\n        text-align: right;\n    }\n</style>\n<table border=\"1\" class=\"dataframe\">\n  <thead>\n    <tr style=\"text-align: right;\">\n      <th></th>\n      <th>PRESSURE</th>\n      <th>TIME</th>\n      <th>TEMP</th>\n    </tr>\n  </thead>\n  <tbody>\n    <tr>\n      <th>0</th>\n      <td>10207</td>\n      <td>1</td>\n      <td>6.8</td>\n    </tr>\n    <tr>\n      <th>1</th>\n      <td>10214</td>\n      <td>2</td>\n      <td>5.8</td>\n    </tr>\n    <tr>\n      <th>2</th>\n      <td>10220</td>\n      <td>3</td>\n      <td>5.7</td>\n    </tr>\n    <tr>\n      <th>3</th>\n      <td>10225</td>\n      <td>4</td>\n      <td>6.0</td>\n    </tr>\n    <tr>\n      <th>4</th>\n      <td>10230</td>\n      <td>5</td>\n      <td>4.5</td>\n    </tr>\n    <tr>\n      <th>...</th>\n      <td>...</td>\n      <td>...</td>\n      <td>...</td>\n    </tr>\n    <tr>\n      <th>8779</th>\n      <td>10265</td>\n      <td>20</td>\n      <td>3.5</td>\n    </tr>\n    <tr>\n      <th>8780</th>\n      <td>10258</td>\n      <td>21</td>\n      <td>3.4</td>\n    </tr>\n    <tr>\n      <th>8781</th>\n      <td>10253</td>\n      <td>22</td>\n      <td>3.0</td>\n    </tr>\n    <tr>\n      <th>8782</th>\n      <td>10246</td>\n      <td>23</td>\n      <td>2.8</td>\n    </tr>\n    <tr>\n      <th>8783</th>\n      <td>10239</td>\n      <td>24</td>\n      <td>2.8</td>\n    </tr>\n  </tbody>\n</table>\n<p>8784 rows × 3 columns</p>\n</div>"
     },
     "metadata": {},
     "execution_count": 24
    }
   ],
   "source": [
    "df[['PRESSURE', 'TIME', 'TEMP']]"
   ]
  },
  {
   "cell_type": "code",
   "execution_count": 25,
   "metadata": {},
   "outputs": [
    {
     "output_type": "execute_result",
     "data": {
      "text/plain": [
       "3    4\n",
       "1    2\n",
       "4    5\n",
       "Name: TIME, dtype: int64"
      ]
     },
     "metadata": {},
     "execution_count": 25
    }
   ],
   "source": [
    "df['TIME'][[3, 1, 4]]"
   ]
  },
  {
   "cell_type": "code",
   "execution_count": 26,
   "metadata": {},
   "outputs": [
    {
     "output_type": "execute_result",
     "data": {
      "text/plain": [
       "   MONTH  DAY  TIME  TEMP  PRESSURE\n",
       "2      1    1     3   5.7     10220\n",
       "3      1    1     4   6.0     10225"
      ],
      "text/html": "<div>\n<style scoped>\n    .dataframe tbody tr th:only-of-type {\n        vertical-align: middle;\n    }\n\n    .dataframe tbody tr th {\n        vertical-align: top;\n    }\n\n    .dataframe thead th {\n        text-align: right;\n    }\n</style>\n<table border=\"1\" class=\"dataframe\">\n  <thead>\n    <tr style=\"text-align: right;\">\n      <th></th>\n      <th>MONTH</th>\n      <th>DAY</th>\n      <th>TIME</th>\n      <th>TEMP</th>\n      <th>PRESSURE</th>\n    </tr>\n  </thead>\n  <tbody>\n    <tr>\n      <th>2</th>\n      <td>1</td>\n      <td>1</td>\n      <td>3</td>\n      <td>5.7</td>\n      <td>10220</td>\n    </tr>\n    <tr>\n      <th>3</th>\n      <td>1</td>\n      <td>1</td>\n      <td>4</td>\n      <td>6.0</td>\n      <td>10225</td>\n    </tr>\n  </tbody>\n</table>\n</div>"
     },
     "metadata": {},
     "execution_count": 26
    }
   ],
   "source": [
    "df[2:4]"
   ]
  },
  {
   "cell_type": "code",
   "execution_count": 27,
   "metadata": {},
   "outputs": [
    {
     "output_type": "execute_result",
     "data": {
      "text/plain": [
       "   MONTH  DAY  TIME  TEMP  PRESSURE\n",
       "0      1    1     1   6.8     10207\n",
       "1      1    1     2   5.8     10214\n",
       "2      1    1     3   5.7     10220\n",
       "3      1    1     4   6.0     10225\n",
       "4      1    1     5   4.5     10230"
      ],
      "text/html": "<div>\n<style scoped>\n    .dataframe tbody tr th:only-of-type {\n        vertical-align: middle;\n    }\n\n    .dataframe tbody tr th {\n        vertical-align: top;\n    }\n\n    .dataframe thead th {\n        text-align: right;\n    }\n</style>\n<table border=\"1\" class=\"dataframe\">\n  <thead>\n    <tr style=\"text-align: right;\">\n      <th></th>\n      <th>MONTH</th>\n      <th>DAY</th>\n      <th>TIME</th>\n      <th>TEMP</th>\n      <th>PRESSURE</th>\n    </tr>\n  </thead>\n  <tbody>\n    <tr>\n      <th>0</th>\n      <td>1</td>\n      <td>1</td>\n      <td>1</td>\n      <td>6.8</td>\n      <td>10207</td>\n    </tr>\n    <tr>\n      <th>1</th>\n      <td>1</td>\n      <td>1</td>\n      <td>2</td>\n      <td>5.8</td>\n      <td>10214</td>\n    </tr>\n    <tr>\n      <th>2</th>\n      <td>1</td>\n      <td>1</td>\n      <td>3</td>\n      <td>5.7</td>\n      <td>10220</td>\n    </tr>\n    <tr>\n      <th>3</th>\n      <td>1</td>\n      <td>1</td>\n      <td>4</td>\n      <td>6.0</td>\n      <td>10225</td>\n    </tr>\n    <tr>\n      <th>4</th>\n      <td>1</td>\n      <td>1</td>\n      <td>5</td>\n      <td>4.5</td>\n      <td>10230</td>\n    </tr>\n  </tbody>\n</table>\n</div>"
     },
     "metadata": {},
     "execution_count": 27
    }
   ],
   "source": [
    "df[:5]"
   ]
  },
  {
   "cell_type": "code",
   "execution_count": 30,
   "metadata": {},
   "outputs": [
    {
     "output_type": "execute_result",
     "data": {
      "text/plain": [
       "      MONTH  DAY  TIME  TEMP  PRESSURE\n",
       "1000      2   42    17   3.8     10041\n",
       "1001      2   42    18   1.6     10043\n",
       "1002      2   42    19   0.9     10043\n",
       "1003      2   42    20   1.7     10042\n",
       "1004      2   42    21  -0.5     10042\n",
       "...     ...  ...   ...   ...       ...\n",
       "8774     12  366    15   5.1     10288\n",
       "8775     12  366    16   4.6     10286\n",
       "8776     12  366    17   4.1     10284\n",
       "8777     12  366    18   3.7     10277\n",
       "8778     12  366    19   3.5     10271\n",
       "\n",
       "[7779 rows x 5 columns]"
      ],
      "text/html": "<div>\n<style scoped>\n    .dataframe tbody tr th:only-of-type {\n        vertical-align: middle;\n    }\n\n    .dataframe tbody tr th {\n        vertical-align: top;\n    }\n\n    .dataframe thead th {\n        text-align: right;\n    }\n</style>\n<table border=\"1\" class=\"dataframe\">\n  <thead>\n    <tr style=\"text-align: right;\">\n      <th></th>\n      <th>MONTH</th>\n      <th>DAY</th>\n      <th>TIME</th>\n      <th>TEMP</th>\n      <th>PRESSURE</th>\n    </tr>\n  </thead>\n  <tbody>\n    <tr>\n      <th>1000</th>\n      <td>2</td>\n      <td>42</td>\n      <td>17</td>\n      <td>3.8</td>\n      <td>10041</td>\n    </tr>\n    <tr>\n      <th>1001</th>\n      <td>2</td>\n      <td>42</td>\n      <td>18</td>\n      <td>1.6</td>\n      <td>10043</td>\n    </tr>\n    <tr>\n      <th>1002</th>\n      <td>2</td>\n      <td>42</td>\n      <td>19</td>\n      <td>0.9</td>\n      <td>10043</td>\n    </tr>\n    <tr>\n      <th>1003</th>\n      <td>2</td>\n      <td>42</td>\n      <td>20</td>\n      <td>1.7</td>\n      <td>10042</td>\n    </tr>\n    <tr>\n      <th>1004</th>\n      <td>2</td>\n      <td>42</td>\n      <td>21</td>\n      <td>-0.5</td>\n      <td>10042</td>\n    </tr>\n    <tr>\n      <th>...</th>\n      <td>...</td>\n      <td>...</td>\n      <td>...</td>\n      <td>...</td>\n      <td>...</td>\n    </tr>\n    <tr>\n      <th>8774</th>\n      <td>12</td>\n      <td>366</td>\n      <td>15</td>\n      <td>5.1</td>\n      <td>10288</td>\n    </tr>\n    <tr>\n      <th>8775</th>\n      <td>12</td>\n      <td>366</td>\n      <td>16</td>\n      <td>4.6</td>\n      <td>10286</td>\n    </tr>\n    <tr>\n      <th>8776</th>\n      <td>12</td>\n      <td>366</td>\n      <td>17</td>\n      <td>4.1</td>\n      <td>10284</td>\n    </tr>\n    <tr>\n      <th>8777</th>\n      <td>12</td>\n      <td>366</td>\n      <td>18</td>\n      <td>3.7</td>\n      <td>10277</td>\n    </tr>\n    <tr>\n      <th>8778</th>\n      <td>12</td>\n      <td>366</td>\n      <td>19</td>\n      <td>3.5</td>\n      <td>10271</td>\n    </tr>\n  </tbody>\n</table>\n<p>7779 rows × 5 columns</p>\n</div>"
     },
     "metadata": {},
     "execution_count": 30
    }
   ],
   "source": [
    "df[1000:-5]"
   ]
  },
  {
   "cell_type": "code",
   "execution_count": null,
   "metadata": {},
   "outputs": [],
   "source": []
  }
 ]
}